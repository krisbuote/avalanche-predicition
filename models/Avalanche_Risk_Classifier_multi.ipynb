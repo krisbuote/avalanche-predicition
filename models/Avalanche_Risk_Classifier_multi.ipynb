{
 "cells": [
  {
   "cell_type": "code",
   "execution_count": 1,
   "metadata": {
    "colab": {
     "base_uri": "https://localhost:8080/",
     "height": 122
    },
    "colab_type": "code",
    "id": "VdpG1OJ30X7M",
    "outputId": "2f90079f-7a30-4bb3-ea16-ef4f3da469b9"
   },
   "outputs": [
    {
     "name": "stdout",
     "output_type": "stream",
     "text": [
      "Go to this URL in a browser: https://accounts.google.com/o/oauth2/auth?client_id=947318989803-6bn6qk8qdgf4n4g3pfee6491hc0brc4i.apps.googleusercontent.com&redirect_uri=urn%3Aietf%3Awg%3Aoauth%3A2.0%3Aoob&scope=email%20https%3A%2F%2Fwww.googleapis.com%2Fauth%2Fdocs.test%20https%3A%2F%2Fwww.googleapis.com%2Fauth%2Fdrive%20https%3A%2F%2Fwww.googleapis.com%2Fauth%2Fdrive.photos.readonly%20https%3A%2F%2Fwww.googleapis.com%2Fauth%2Fpeopleapi.readonly&response_type=code\n",
      "\n",
      "Enter your authorization code:\n",
      "··········\n",
      "Mounted at /content/drive\n"
     ]
    }
   ],
   "source": [
    "#Mount google drive to access data -- there is only temporary storage on Colab, so keep all images/data on google drive and then access them from here\n",
    "\n",
    "from fastai.vision import * \n",
    "from google.colab import drive\n",
    "import numpy as np\n",
    "import pandas as pd\n",
    "import matplotlib.pyplot as plt\n",
    "import matplotlib.cm as cm\n",
    "from datetime import date, timedelta\n",
    "%matplotlib inline\n",
    "\n",
    "drive.mount('/content/drive',force_remount=True) #follow instructions to mount drive \n",
    "\n",
    "wsLocations = ['whistler','whistlerNesters','whistlerRoundhouse','callaghanValley','blackcombSliding'] #weather station locations: location_weather_data_good.csv\n",
    "numPrevDays = 30\n"
   ]
  },
  {
   "cell_type": "code",
   "execution_count": 49,
   "metadata": {
    "colab": {
     "base_uri": "https://localhost:8080/",
     "height": 411
    },
    "colab_type": "code",
    "id": "enteV7mxhK-d",
    "outputId": "82d37537-a387-46c9-b08e-9e450d9a263b"
   },
   "outputs": [
    {
     "name": "stdout",
     "output_type": "stream",
     "text": [
      "whistler_weather_good.csv\n"
     ]
    },
    {
     "name": "stderr",
     "output_type": "stream",
     "text": [
      "/usr/local/lib/python3.6/dist-packages/pandas/core/indexing.py:194: SettingWithCopyWarning: \n",
      "A value is trying to be set on a copy of a slice from a DataFrame\n",
      "\n",
      "See the caveats in the documentation: http://pandas.pydata.org/pandas-docs/stable/indexing.html#indexing-view-versus-copy\n",
      "  self._setitem_with_indexer(indexer, value)\n"
     ]
    },
    {
     "name": "stdout",
     "output_type": "stream",
     "text": [
      "whistlerNesters_weather_good.csv\n",
      "whistlerRoundhouse_weather_good.csv\n",
      "callaghanValley_weather_good.csv\n",
      "blackcombSliding_weather_good.csv\n"
     ]
    },
    {
     "data": {
      "text/html": [
       "<div>\n",
       "<style scoped>\n",
       "    .dataframe tbody tr th:only-of-type {\n",
       "        vertical-align: middle;\n",
       "    }\n",
       "\n",
       "    .dataframe tbody tr th {\n",
       "        vertical-align: top;\n",
       "    }\n",
       "\n",
       "    .dataframe thead th {\n",
       "        text-align: right;\n",
       "    }\n",
       "</style>\n",
       "<table border=\"1\" class=\"dataframe\">\n",
       "  <thead>\n",
       "    <tr style=\"text-align: right;\">\n",
       "      <th></th>\n",
       "      <th>Image_name</th>\n",
       "      <th>Labels</th>\n",
       "    </tr>\n",
       "  </thead>\n",
       "  <tbody>\n",
       "    <tr>\n",
       "      <th>0</th>\n",
       "      <td>temp_precip_prev30_Reds_whistler_2012-01-01.png</td>\n",
       "      <td>[Below2, Treeline3, Above3]</td>\n",
       "    </tr>\n",
       "    <tr>\n",
       "      <th>1</th>\n",
       "      <td>temp_precip_prev30_Reds_whistler_2012-01-02.png</td>\n",
       "      <td>[Below2, Treeline3, Above3]</td>\n",
       "    </tr>\n",
       "    <tr>\n",
       "      <th>2</th>\n",
       "      <td>temp_precip_prev30_Reds_whistler_2012-01-03.png</td>\n",
       "      <td>[Below2, Treeline4, Above4]</td>\n",
       "    </tr>\n",
       "    <tr>\n",
       "      <th>3</th>\n",
       "      <td>temp_precip_prev30_Reds_whistler_2012-01-04.png</td>\n",
       "      <td>[Below3, Treeline4, Above4]</td>\n",
       "    </tr>\n",
       "    <tr>\n",
       "      <th>4</th>\n",
       "      <td>temp_precip_prev30_Reds_whistler_2012-01-05.png</td>\n",
       "      <td>[Below2, Treeline3, Above4]</td>\n",
       "    </tr>\n",
       "  </tbody>\n",
       "</table>\n",
       "</div>"
      ],
      "text/plain": [
       "                                        Image_name  \\\n",
       "0  temp_precip_prev30_Reds_whistler_2012-01-01.png   \n",
       "1  temp_precip_prev30_Reds_whistler_2012-01-02.png   \n",
       "2  temp_precip_prev30_Reds_whistler_2012-01-03.png   \n",
       "3  temp_precip_prev30_Reds_whistler_2012-01-04.png   \n",
       "4  temp_precip_prev30_Reds_whistler_2012-01-05.png   \n",
       "\n",
       "                        Labels  \n",
       "0  [Below2, Treeline3, Above3]  \n",
       "1  [Below2, Treeline3, Above3]  \n",
       "2  [Below2, Treeline4, Above4]  \n",
       "3  [Below3, Treeline4, Above4]  \n",
       "4  [Below2, Treeline3, Above4]  "
      ]
     },
     "execution_count": 49,
     "metadata": {
      "tags": []
     },
     "output_type": "execute_result"
    },
    {
     "data": {
      "text/plain": [
       "<Figure size 432x288 with 0 Axes>"
      ]
     },
     "metadata": {
      "tags": []
     },
     "output_type": "display_data"
    }
   ],
   "source": [
    "#This saves images for all years of interest\n",
    "\n",
    "saveIt = False #True if you want to save images in folders in drive, False if you've already done this before\n",
    "rows_list = [] #list of avalanche ratings (columns) for each date at each station (rows); will be converted to a dataframe, but starts as a list for speed\n",
    "elevations = ['Below','Treeline','Above'] #this info is just for naming labels, can change \n",
    "\n",
    "for wsLocation in wsLocations: #for each of the weather stations, save images\n",
    "  \n",
    "  weatherDir = '/content/drive/My Drive/Fastai/Data/'\n",
    "  weatherFilename = wsLocation + '_weather_good.csv'\n",
    "  weatherdf = pd.read_csv(weatherDir + weatherFilename) #this is all the weather data for the current station\n",
    "  print(weatherFilename)\n",
    "\n",
    "  riskDir = '/content/drive/My Drive/Fastai/Data/'\n",
    "  riskFilename = 'avalanche_rating_Jan_to_Apr_2012_to_2017.csv'\n",
    "  riskdf = pd.read_csv(riskDir + riskFilename,index_col='Unnamed: 0') #this is the avalanche risk data\n",
    "\n",
    "  dateTime = weatherdf['Date/Time']\n",
    "  year = weatherdf['Year']\n",
    "  month = weatherdf['Month']\n",
    "  day = weatherdf['Day']\n",
    "  maxT = weatherdf['Max Temp']\n",
    "  meanT = weatherdf['Mean Temp']\n",
    "  minT = weatherdf['Min Temp']\n",
    "  P = weatherdf['Total Precip (mm)']\n",
    "\n",
    "  max_gap_length = 5 #maximum length of consecutive missing days that can be linearly interpolated\n",
    "\n",
    "  for ind_start in range(len(weatherdf)-max_gap_length): #loop through each day, except last few (can't interpolate at end)\n",
    "\n",
    "      if not np.isnan(meanT.iloc[ind_start]) and np.isnan(meanT.iloc[ind_start+1]): #if current day has temp measurement, but next day does not\n",
    "\n",
    "          #find next day that has temp measurement\n",
    "          #if time between current day and next day with data is less than max_gap_length, linearly interpolate\n",
    "          for step in range(2,max_gap_length+1): #loop through the next few days to see if nans end\n",
    "              if not np.isnan(meanT.iloc[ind_start+step]): #if current day + step days has data, linearly interpolate in between\n",
    "\n",
    "                  len_gap = step-1\n",
    "                  xp = [ind_start,ind_start+step]\n",
    "                  fp = [meanT.iloc[ind_start],meanT.iloc[ind_start+step]]\n",
    "                  x = np.linspace(ind_start+1,ind_start+step-1,len_gap)\n",
    "\n",
    "                  f = np.interp(x=x,xp=xp,fp=fp)\n",
    "\n",
    "                  ii = 0\n",
    "                  for xval in x:\n",
    "                      meanT.iloc[int(xval)] = f[ii] #linearly interpolate temperature as it is a continuous function\n",
    "                      P.iloc[int(xval)] = 0 #assume precipitation is zero -- P is discrete and can't be linearly interpolated               \n",
    "                      ii+=1\n",
    "\n",
    "  startYear = 2012 #first year with avalanche data\n",
    "  finalYear = 2017 #final year with avalanche data\n",
    "\n",
    "  inds = []\n",
    "  dates = []\n",
    "  for year in range(startYear,finalYear+1): #for each year of avalanche data\n",
    "\n",
    "      startDate = str(year)+'-01-01' #YYYY-MM-DD, start January 1\n",
    "      finalDate = str(year)+'-04-30' #end April 30\n",
    "\n",
    "      d1 = date(int(startDate[0:4]), int(startDate[5:7]), int(startDate[8:10]))  # start date\n",
    "      d2 = date(int(finalDate[0:4]), int(finalDate[6]), int(finalDate[8:10]))  # end date\n",
    "\n",
    "      delta = d2 - d1\n",
    "      dates = dates+[str(d1+timedelta(i)) for i in range(delta.days+1)] #list of dates (strings) during time range of interest\n",
    "\n",
    "  #get indices in weather data that correspond to these dates\n",
    "  inds = [np.argwhere(dateTime==dates[i]) for i in range(len(dates))] #this is a list of arrays\n",
    "  inds = [inds[i].tolist() for i in range(len(inds))]\n",
    "  indsDummy = []\n",
    "  i = 0\n",
    "  for index in inds:\n",
    "      indsDummy.append(index[0][0])\n",
    "      i+=1\n",
    "  inds = indsDummy\n",
    "\n",
    "  #max/min values on the x/y axis need to all be the same on all images\n",
    "  xmin = np.nanmin([meanT[i] for i in inds])\n",
    "  xmax = np.nanmax([meanT[i] for i in inds])\n",
    "  ymin = np.nanmin([P[i] for i in inds])\n",
    "  ymax = np.nanmax([P[i] for i in inds])\n",
    "\n",
    "  s = 1 # Segment length -- we colour the line in segments in order to get a gradient of a colourmap across the line in time\n",
    "  n = numPrevDays\n",
    "  rgb = cm.get_cmap(name='Reds',lut=n)\n",
    "\n",
    "  nanThreshold = 5\n",
    "  for ind in inds: #for each day\n",
    "\n",
    "      currDay = dateTime[ind]\n",
    "      prevDayInds = range(np.subtract(ind,30)+1,ind)\n",
    "\n",
    "      x = [meanT[i] for i in prevDayInds]\n",
    "      y = [P[i] for i in prevDayInds]\n",
    "\n",
    "      numNansMax = max(np.isnan(x).sum(), np.isnan(y).sum())\n",
    "      if numNansMax < nanThreshold:\n",
    "\n",
    "        plt.subplot(1,1,1)\n",
    "        for i in range(0,n,s): #this plots and colours each segment on the current plot\n",
    "            plt.plot(x[i:i+s+1],y[i:i+s+1],color=rgb(i)[0:3])\n",
    "\n",
    "        plt.xlim([xmin,xmax])\n",
    "        plt.ylim([ymin,ymax])\n",
    "        plt.axis('off')\n",
    "        #plt.show()\n",
    "\n",
    "        fileDir = '/content/drive/My Drive/Fastai/Images/Temp_Precip/All/' #folder in drive that will hold images\n",
    "        filename = 'temp_precip_prev' + str(numPrevDays) + '_Reds_' + wsLocation + '_' + currDay + '.png'\n",
    "\n",
    "        if saveIt is True:\n",
    "          plt.savefig(fileDir+filename)\n",
    "\n",
    "        plt.clf()\n",
    "        \n",
    "        label = riskdf.loc[currDay] #avalanche ratings of the current day\n",
    "        dict1 = {}\n",
    "        labelList = label.values.tolist() #avalanche ratings as a list -- now want to change from [2,3,3] to ['Below2','Treeline3','Above3'] since the multiclass labelling later reduces non-unique classes (ie: [2,3,3] --> [2,3] otherwise)\n",
    "        labelListElevation = []\n",
    "        for ind in range(len(labelList)):\n",
    "          labelListElevation.append(elevations[ind] + str(labelList[ind]))\n",
    "          \n",
    "        dict1.update({'Image_name':filename,'Labels':labelListElevation})\n",
    "        rows_list.append(dict1)\n",
    "        \n",
    "labelsdf = pd.DataFrame(rows_list) #this is a dataframe with columns image_name and labels --> right format for the ImageDataBunch.from_df\n",
    "labelsdf.head()"
   ]
  },
  {
   "cell_type": "code",
   "execution_count": 50,
   "metadata": {
    "colab": {
     "base_uri": "https://localhost:8080/",
     "height": 601
    },
    "colab_type": "code",
    "id": "aSb9Vm9CoVT2",
    "outputId": "2d902c50-f6f7-47db-c596-9c1c1b608c4a"
   },
   "outputs": [
    {
     "name": "stdout",
     "output_type": "stream",
     "text": [
      "['Above1', 'Above2', 'Above3', 'Above4', 'Below1', 'Below2', 'Below3', 'Below4', 'Treeline1', 'Treeline2', 'Treeline3', 'Treeline4'] 12 2712 677\n"
     ]
    },
    {
     "data": {
      "image/png": "[encoded data removed]",
      "text/plain": [
       "<Figure size 504x576 with 9 Axes>"
      ]
     },
     "metadata": {
      "tags": []
     },
     "output_type": "display_data"
    }
   ],
   "source": [
    "#view data\n",
    "\n",
    "folders = ['1','2','3','4']\n",
    "classes = folders\n",
    "path = Path('/content/drive/My Drive/Fastai/Images/Temp_Precip/All/') #path of image locations\n",
    "\n",
    "#first, use lower resolution images -- will use higher resolution images later, starting low res speeds up training\n",
    "np.random.seed(42)\n",
    "data = ImageDataBunch.from_df(path, labelsdf, valid_pct=0.2,\n",
    "        ds_tfms=get_transforms(do_flip=False), size=64, num_workers=4).normalize(imagenet_stats) #this arranges images/labels with all the info for the CNN\n",
    "\n",
    "data.show_batch(rows=3, figsize=(7,8)) #visualize some images and their labels\n",
    "print(data.classes, data.c, len(data.train_ds), len(data.valid_ds))"
   ]
  },
  {
   "cell_type": "code",
   "execution_count": 0,
   "metadata": {
    "colab": {},
    "colab_type": "code",
    "id": "gvqwy_iCyLAZ"
   },
   "outputs": [],
   "source": []
  },
  {
   "cell_type": "code",
   "execution_count": 51,
   "metadata": {
    "colab": {
     "base_uri": "https://localhost:8080/",
     "height": 250
    },
    "colab_type": "code",
    "id": "v_neVKzQoZ8A",
    "outputId": "de7c9c00-da9c-45e5-a1a5-867dddfa0161"
   },
   "outputs": [
    {
     "name": "stderr",
     "output_type": "stream",
     "text": [
      "/usr/local/lib/python3.6/dist-packages/fastai/vision/learner.py:105: UserWarning: `create_cnn` is deprecated and is now named `cnn_learner`.\n",
      "  warn(\"`create_cnn` is deprecated and is now named `cnn_learner`.\")\n"
     ]
    },
    {
     "data": {
      "text/html": [
       "Total time: 01:50 <p><table border=\"1\" class=\"dataframe\">\n",
       "  <thead>\n",
       "    <tr style=\"text-align: left;\">\n",
       "      <th>epoch</th>\n",
       "      <th>train_loss</th>\n",
       "      <th>valid_loss</th>\n",
       "      <th>accuracy_thresh</th>\n",
       "      <th>fbeta</th>\n",
       "      <th>time</th>\n",
       "    </tr>\n",
       "  </thead>\n",
       "  <tbody>\n",
       "    <tr>\n",
       "      <td>0</td>\n",
       "      <td>0.763249</td>\n",
       "      <td>0.589453</td>\n",
       "      <td>0.315854</td>\n",
       "      <td>0.628485</td>\n",
       "      <td>00:27</td>\n",
       "    </tr>\n",
       "    <tr>\n",
       "      <td>1</td>\n",
       "      <td>0.595225</td>\n",
       "      <td>0.472210</td>\n",
       "      <td>0.665436</td>\n",
       "      <td>0.662651</td>\n",
       "      <td>00:27</td>\n",
       "    </tr>\n",
       "    <tr>\n",
       "      <td>2</td>\n",
       "      <td>0.525933</td>\n",
       "      <td>0.467187</td>\n",
       "      <td>0.654111</td>\n",
       "      <td>0.668051</td>\n",
       "      <td>00:27</td>\n",
       "    </tr>\n",
       "    <tr>\n",
       "      <td>3</td>\n",
       "      <td>0.494115</td>\n",
       "      <td>0.464506</td>\n",
       "      <td>0.655835</td>\n",
       "      <td>0.678350</td>\n",
       "      <td>00:28</td>\n",
       "    </tr>\n",
       "  </tbody>\n",
       "</table>"
      ],
      "text/plain": [
       "<IPython.core.display.HTML object>"
      ]
     },
     "metadata": {
      "tags": []
     },
     "output_type": "display_data"
    }
   ],
   "source": [
    "#train the model\n",
    "\n",
    "acc_02 = partial(accuracy_thresh, thresh=0.2) #first metric: accuracy, where if the output node (corresponding to a class) exceeds a value of 'thresh', the image is given that classification\n",
    "f_score = partial(fbeta, thresh=0.2) #fbeta metric, often used in kaggle\n",
    "\n",
    "learn = create_cnn(data, models.resnet34,metrics=[acc_02,f_score]) #use resnet34\n",
    "learn.fit_one_cycle(4) #run 4 epochs, updating only the weights of the final dense layer\n",
    "\n",
    "learn.save('all' + '_stage-1') #save this model step"
   ]
  },
  {
   "cell_type": "code",
   "execution_count": 52,
   "metadata": {
    "colab": {
     "base_uri": "https://localhost:8080/",
     "height": 34
    },
    "colab_type": "code",
    "id": "QDwGD1pj2fsF",
    "outputId": "b4d37da6-5777-4785-e2a3-2e960d9a67f1"
   },
   "outputs": [
    {
     "data": {
      "text/html": [],
      "text/plain": [
       "<IPython.core.display.HTML object>"
      ]
     },
     "metadata": {
      "tags": []
     },
     "output_type": "display_data"
    },
    {
     "name": "stdout",
     "output_type": "stream",
     "text": [
      "LR Finder is complete, type {learner_name}.recorder.plot() to see the graph.\n"
     ]
    }
   ],
   "source": [
    "learn.unfreeze() #unfreeze all model layers to have their weights updated\n",
    "learn.lr_find() #try to optimize learning rate\n",
    "learn.recorder.plot() #plot loss vs learning rate; choose learning rate to be ~10x smaller than when the loss starts to increase"
   ]
  },
  {
   "cell_type": "code",
   "execution_count": 54,
   "metadata": {
    "colab": {
     "base_uri": "https://localhost:8080/",
     "height": 692
    },
    "colab_type": "code",
    "id": "RL0_cEQUr_pk",
    "outputId": "936e5614-87b1-40e9-ead5-f8ec75915ac0"
   },
   "outputs": [
    {
     "data": {
      "text/html": [
       "Total time: 09:51 <p><table border=\"1\" class=\"dataframe\">\n",
       "  <thead>\n",
       "    <tr style=\"text-align: left;\">\n",
       "      <th>epoch</th>\n",
       "      <th>train_loss</th>\n",
       "      <th>valid_loss</th>\n",
       "      <th>accuracy_thresh</th>\n",
       "      <th>fbeta</th>\n",
       "      <th>time</th>\n",
       "    </tr>\n",
       "  </thead>\n",
       "  <tbody>\n",
       "    <tr>\n",
       "      <td>0</td>\n",
       "      <td>0.471489</td>\n",
       "      <td>0.449431</td>\n",
       "      <td>0.664697</td>\n",
       "      <td>0.693154</td>\n",
       "      <td>00:31</td>\n",
       "    </tr>\n",
       "    <tr>\n",
       "      <td>1</td>\n",
       "      <td>0.465530</td>\n",
       "      <td>0.438914</td>\n",
       "      <td>0.670606</td>\n",
       "      <td>0.700220</td>\n",
       "      <td>00:30</td>\n",
       "    </tr>\n",
       "    <tr>\n",
       "      <td>2</td>\n",
       "      <td>0.456862</td>\n",
       "      <td>0.426278</td>\n",
       "      <td>0.687715</td>\n",
       "      <td>0.710168</td>\n",
       "      <td>00:28</td>\n",
       "    </tr>\n",
       "    <tr>\n",
       "      <td>3</td>\n",
       "      <td>0.444632</td>\n",
       "      <td>0.427616</td>\n",
       "      <td>0.673806</td>\n",
       "      <td>0.715105</td>\n",
       "      <td>00:28</td>\n",
       "    </tr>\n",
       "    <tr>\n",
       "      <td>4</td>\n",
       "      <td>0.434766</td>\n",
       "      <td>0.413137</td>\n",
       "      <td>0.717750</td>\n",
       "      <td>0.723393</td>\n",
       "      <td>00:28</td>\n",
       "    </tr>\n",
       "    <tr>\n",
       "      <td>5</td>\n",
       "      <td>0.417696</td>\n",
       "      <td>0.419389</td>\n",
       "      <td>0.731167</td>\n",
       "      <td>0.712779</td>\n",
       "      <td>00:28</td>\n",
       "    </tr>\n",
       "    <tr>\n",
       "      <td>6</td>\n",
       "      <td>0.409382</td>\n",
       "      <td>0.407508</td>\n",
       "      <td>0.723289</td>\n",
       "      <td>0.719909</td>\n",
       "      <td>00:28</td>\n",
       "    </tr>\n",
       "    <tr>\n",
       "      <td>7</td>\n",
       "      <td>0.402195</td>\n",
       "      <td>0.376864</td>\n",
       "      <td>0.729690</td>\n",
       "      <td>0.755973</td>\n",
       "      <td>00:28</td>\n",
       "    </tr>\n",
       "    <tr>\n",
       "      <td>8</td>\n",
       "      <td>0.392536</td>\n",
       "      <td>0.375019</td>\n",
       "      <td>0.740030</td>\n",
       "      <td>0.755205</td>\n",
       "      <td>00:28</td>\n",
       "    </tr>\n",
       "    <tr>\n",
       "      <td>9</td>\n",
       "      <td>0.382019</td>\n",
       "      <td>0.366230</td>\n",
       "      <td>0.740645</td>\n",
       "      <td>0.763660</td>\n",
       "      <td>00:28</td>\n",
       "    </tr>\n",
       "    <tr>\n",
       "      <td>10</td>\n",
       "      <td>0.374816</td>\n",
       "      <td>0.361789</td>\n",
       "      <td>0.757509</td>\n",
       "      <td>0.758106</td>\n",
       "      <td>00:29</td>\n",
       "    </tr>\n",
       "    <tr>\n",
       "      <td>11</td>\n",
       "      <td>0.366022</td>\n",
       "      <td>0.364688</td>\n",
       "      <td>0.748031</td>\n",
       "      <td>0.761600</td>\n",
       "      <td>00:33</td>\n",
       "    </tr>\n",
       "    <tr>\n",
       "      <td>12</td>\n",
       "      <td>0.357938</td>\n",
       "      <td>0.358474</td>\n",
       "      <td>0.771049</td>\n",
       "      <td>0.759700</td>\n",
       "      <td>00:29</td>\n",
       "    </tr>\n",
       "    <tr>\n",
       "      <td>13</td>\n",
       "      <td>0.349335</td>\n",
       "      <td>0.349842</td>\n",
       "      <td>0.773511</td>\n",
       "      <td>0.771022</td>\n",
       "      <td>00:32</td>\n",
       "    </tr>\n",
       "    <tr>\n",
       "      <td>14</td>\n",
       "      <td>0.335206</td>\n",
       "      <td>0.342620</td>\n",
       "      <td>0.782373</td>\n",
       "      <td>0.782039</td>\n",
       "      <td>00:29</td>\n",
       "    </tr>\n",
       "    <tr>\n",
       "      <td>15</td>\n",
       "      <td>0.328105</td>\n",
       "      <td>0.333346</td>\n",
       "      <td>0.782004</td>\n",
       "      <td>0.787013</td>\n",
       "      <td>00:28</td>\n",
       "    </tr>\n",
       "    <tr>\n",
       "      <td>16</td>\n",
       "      <td>0.316614</td>\n",
       "      <td>0.330889</td>\n",
       "      <td>0.782127</td>\n",
       "      <td>0.790388</td>\n",
       "      <td>00:28</td>\n",
       "    </tr>\n",
       "    <tr>\n",
       "      <td>17</td>\n",
       "      <td>0.306124</td>\n",
       "      <td>0.332411</td>\n",
       "      <td>0.786805</td>\n",
       "      <td>0.784252</td>\n",
       "      <td>00:28</td>\n",
       "    </tr>\n",
       "    <tr>\n",
       "      <td>18</td>\n",
       "      <td>0.302946</td>\n",
       "      <td>0.331795</td>\n",
       "      <td>0.789143</td>\n",
       "      <td>0.783706</td>\n",
       "      <td>00:28</td>\n",
       "    </tr>\n",
       "    <tr>\n",
       "      <td>19</td>\n",
       "      <td>0.298678</td>\n",
       "      <td>0.330126</td>\n",
       "      <td>0.789759</td>\n",
       "      <td>0.784880</td>\n",
       "      <td>00:33</td>\n",
       "    </tr>\n",
       "  </tbody>\n",
       "</table>"
      ],
      "text/plain": [
       "<IPython.core.display.HTML object>"
      ]
     },
     "metadata": {
      "tags": []
     },
     "output_type": "display_data"
    }
   ],
   "source": [
    "learn.fit_one_cycle(20,max_lr=slice(1e-4,1e-3)) #now run 20 epochs and see how it does"
   ]
  },
  {
   "cell_type": "code",
   "execution_count": 0,
   "metadata": {
    "colab": {},
    "colab_type": "code",
    "id": "pIDLPas7sElB"
   },
   "outputs": [],
   "source": [
    "learn.save('all' + '_stage-2') #save at this point"
   ]
  },
  {
   "cell_type": "code",
   "execution_count": 57,
   "metadata": {
    "colab": {
     "base_uri": "https://localhost:8080/",
     "height": 34
    },
    "colab_type": "code",
    "id": "7p5gtnF5sEpW",
    "outputId": "0de5757a-889a-49fd-bc85-81d1b6ffbd35"
   },
   "outputs": [
    {
     "data": {
      "text/html": [],
      "text/plain": [
       "<IPython.core.display.HTML object>"
      ]
     },
     "metadata": {
      "tags": []
     },
     "output_type": "display_data"
    },
    {
     "name": "stdout",
     "output_type": "stream",
     "text": [
      "LR Finder is complete, type {learner_name}.recorder.plot() to see the graph.\n"
     ]
    }
   ],
   "source": [
    "#now, increase resolution and see if that helps\n",
    "path = Path('/content/drive/My Drive/Fastai/Images/Temp_Precip/All')\n",
    "data = ImageDataBunch.from_df(path, labelsdf, valid_pct=0.2,\n",
    "        ds_tfms=get_transforms(do_flip=False), size=128, num_workers=4).normalize(imagenet_stats)\n",
    "\n",
    "learn.data = data\n",
    "learn.unfreeze()\n",
    "learn.lr_find() #find new learning rate to use\n",
    "learn.recorder.plot()"
   ]
  },
  {
   "cell_type": "code",
   "execution_count": 59,
   "metadata": {
    "colab": {
     "base_uri": "https://localhost:8080/",
     "height": 692
    },
    "colab_type": "code",
    "id": "9HBLNYVT6hLZ",
    "outputId": "1a387ea5-8854-4980-ef65-5725dba3ab6f"
   },
   "outputs": [
    {
     "data": {
      "text/html": [
       "Total time: 14:19 <p><table border=\"1\" class=\"dataframe\">\n",
       "  <thead>\n",
       "    <tr style=\"text-align: left;\">\n",
       "      <th>epoch</th>\n",
       "      <th>train_loss</th>\n",
       "      <th>valid_loss</th>\n",
       "      <th>accuracy_thresh</th>\n",
       "      <th>fbeta</th>\n",
       "      <th>time</th>\n",
       "    </tr>\n",
       "  </thead>\n",
       "  <tbody>\n",
       "    <tr>\n",
       "      <td>0</td>\n",
       "      <td>0.393220</td>\n",
       "      <td>0.346784</td>\n",
       "      <td>0.775603</td>\n",
       "      <td>0.770287</td>\n",
       "      <td>00:42</td>\n",
       "    </tr>\n",
       "    <tr>\n",
       "      <td>1</td>\n",
       "      <td>0.364420</td>\n",
       "      <td>0.320570</td>\n",
       "      <td>0.791851</td>\n",
       "      <td>0.797024</td>\n",
       "      <td>00:42</td>\n",
       "    </tr>\n",
       "    <tr>\n",
       "      <td>2</td>\n",
       "      <td>0.345591</td>\n",
       "      <td>0.347992</td>\n",
       "      <td>0.762925</td>\n",
       "      <td>0.770161</td>\n",
       "      <td>00:42</td>\n",
       "    </tr>\n",
       "    <tr>\n",
       "      <td>3</td>\n",
       "      <td>0.338372</td>\n",
       "      <td>0.353409</td>\n",
       "      <td>0.785328</td>\n",
       "      <td>0.772430</td>\n",
       "      <td>00:43</td>\n",
       "    </tr>\n",
       "    <tr>\n",
       "      <td>4</td>\n",
       "      <td>0.333390</td>\n",
       "      <td>0.343908</td>\n",
       "      <td>0.789882</td>\n",
       "      <td>0.784871</td>\n",
       "      <td>00:42</td>\n",
       "    </tr>\n",
       "    <tr>\n",
       "      <td>5</td>\n",
       "      <td>0.332606</td>\n",
       "      <td>0.356257</td>\n",
       "      <td>0.764156</td>\n",
       "      <td>0.769755</td>\n",
       "      <td>00:42</td>\n",
       "    </tr>\n",
       "    <tr>\n",
       "      <td>6</td>\n",
       "      <td>0.326008</td>\n",
       "      <td>0.335160</td>\n",
       "      <td>0.785943</td>\n",
       "      <td>0.787209</td>\n",
       "      <td>00:43</td>\n",
       "    </tr>\n",
       "    <tr>\n",
       "      <td>7</td>\n",
       "      <td>0.320283</td>\n",
       "      <td>0.363169</td>\n",
       "      <td>0.790620</td>\n",
       "      <td>0.773494</td>\n",
       "      <td>00:42</td>\n",
       "    </tr>\n",
       "    <tr>\n",
       "      <td>8</td>\n",
       "      <td>0.312242</td>\n",
       "      <td>0.351291</td>\n",
       "      <td>0.805391</td>\n",
       "      <td>0.792013</td>\n",
       "      <td>00:43</td>\n",
       "    </tr>\n",
       "    <tr>\n",
       "      <td>9</td>\n",
       "      <td>0.302875</td>\n",
       "      <td>0.338623</td>\n",
       "      <td>0.817947</td>\n",
       "      <td>0.787256</td>\n",
       "      <td>00:43</td>\n",
       "    </tr>\n",
       "    <tr>\n",
       "      <td>10</td>\n",
       "      <td>0.293153</td>\n",
       "      <td>0.318440</td>\n",
       "      <td>0.798744</td>\n",
       "      <td>0.798994</td>\n",
       "      <td>00:42</td>\n",
       "    </tr>\n",
       "    <tr>\n",
       "      <td>11</td>\n",
       "      <td>0.283269</td>\n",
       "      <td>0.315100</td>\n",
       "      <td>0.813762</td>\n",
       "      <td>0.807108</td>\n",
       "      <td>00:43</td>\n",
       "    </tr>\n",
       "    <tr>\n",
       "      <td>12</td>\n",
       "      <td>0.272539</td>\n",
       "      <td>0.312077</td>\n",
       "      <td>0.821147</td>\n",
       "      <td>0.804957</td>\n",
       "      <td>00:43</td>\n",
       "    </tr>\n",
       "    <tr>\n",
       "      <td>13</td>\n",
       "      <td>0.256915</td>\n",
       "      <td>0.307327</td>\n",
       "      <td>0.826932</td>\n",
       "      <td>0.812327</td>\n",
       "      <td>00:42</td>\n",
       "    </tr>\n",
       "    <tr>\n",
       "      <td>14</td>\n",
       "      <td>0.243970</td>\n",
       "      <td>0.324697</td>\n",
       "      <td>0.825332</td>\n",
       "      <td>0.794601</td>\n",
       "      <td>00:43</td>\n",
       "    </tr>\n",
       "    <tr>\n",
       "      <td>15</td>\n",
       "      <td>0.232191</td>\n",
       "      <td>0.307113</td>\n",
       "      <td>0.832472</td>\n",
       "      <td>0.809359</td>\n",
       "      <td>00:43</td>\n",
       "    </tr>\n",
       "    <tr>\n",
       "      <td>16</td>\n",
       "      <td>0.220855</td>\n",
       "      <td>0.306166</td>\n",
       "      <td>0.834195</td>\n",
       "      <td>0.811182</td>\n",
       "      <td>00:43</td>\n",
       "    </tr>\n",
       "    <tr>\n",
       "      <td>17</td>\n",
       "      <td>0.212326</td>\n",
       "      <td>0.309849</td>\n",
       "      <td>0.836164</td>\n",
       "      <td>0.811804</td>\n",
       "      <td>00:42</td>\n",
       "    </tr>\n",
       "    <tr>\n",
       "      <td>18</td>\n",
       "      <td>0.207065</td>\n",
       "      <td>0.313122</td>\n",
       "      <td>0.835795</td>\n",
       "      <td>0.809036</td>\n",
       "      <td>00:43</td>\n",
       "    </tr>\n",
       "    <tr>\n",
       "      <td>19</td>\n",
       "      <td>0.204391</td>\n",
       "      <td>0.311895</td>\n",
       "      <td>0.836041</td>\n",
       "      <td>0.810066</td>\n",
       "      <td>00:42</td>\n",
       "    </tr>\n",
       "  </tbody>\n",
       "</table>"
      ],
      "text/plain": [
       "<IPython.core.display.HTML object>"
      ]
     },
     "metadata": {
      "tags": []
     },
     "output_type": "display_data"
    }
   ],
   "source": [
    "learn.fit_one_cycle(20,max_lr=slice(1e-4,1e-3)) #run 20 more epochs"
   ]
  },
  {
   "cell_type": "code",
   "execution_count": 0,
   "metadata": {
    "colab": {},
    "colab_type": "code",
    "id": "LbvA9Con3R3q"
   },
   "outputs": [],
   "source": [
    "learn.save('all' + '_stage-3') #save this stage of model\n"
   ]
  }
 ],
 "metadata": {
  "accelerator": "GPU",
  "colab": {
   "collapsed_sections": [],
   "name": "Avalanche_Risk_Classifier_multi.ipynb",
   "provenance": [],
   "version": "0.3.2"
  },
  "kernelspec": {
   "display_name": "Python 3",
   "language": "python",
   "name": "python3"
  },
  "language_info": {
   "codemirror_mode": {
    "name": "ipython",
    "version": 3
   },
   "file_extension": ".py",
   "mimetype": "text/x-python",
   "name": "python",
   "nbconvert_exporter": "python",
   "pygments_lexer": "ipython3",
   "version": "3.6.4"
  }
 },
 "nbformat": 4,
 "nbformat_minor": 1
}
