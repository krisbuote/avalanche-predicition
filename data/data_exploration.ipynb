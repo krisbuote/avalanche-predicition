{
 "cells": [
  {
   "cell_type": "code",
   "execution_count": 25,
   "metadata": {},
   "outputs": [
    {
     "name": "stdout",
     "output_type": "stream",
     "text": [
      "        Date/Time  Mean Temp  Total Precip (mm)\n",
      "13149  2012-01-01       -3.7                0.0\n",
      "13150  2012-01-02       -1.1                1.6\n",
      "13151  2012-01-03       -0.7               41.0\n",
      "13152  2012-01-04        2.8               49.5\n",
      "13153  2012-01-05        1.2                3.4\n",
      "        Mean Temp  Total Precip (mm)\n",
      "count  440.000000         440.000000\n",
      "mean    -0.096818           5.315682\n",
      "std      4.416591           9.622317\n",
      "min    -18.200000           0.000000\n",
      "25%     -1.800000           0.000000\n",
      "50%      0.900000           1.150000\n",
      "75%      2.425000           6.450000\n",
      "max     11.000000          66.000000\n",
      "\n",
      " Number of NaNs: \n",
      " Date/Time              0\n",
      "Mean Temp            102\n",
      "Total Precip (mm)    102\n",
      "dtype: int64\n",
      "18.82 % of rows have at least one NaN\n"
     ]
    },
    {
     "data": {
      "image/png": "[encoded data removed]",
      "text/plain": [
       "<matplotlib.figure.Figure at 0x2b92a31a630>"
      ]
     },
     "metadata": {},
     "output_type": "display_data"
    }
   ],
   "source": [
    "# Visualize and inspect weather data\n",
    "import numpy as np \n",
    "import pandas as pd \n",
    "import matplotlib.pyplot as plt\n",
    "\n",
    "data_path = './whistler_weather_good.csv'\n",
    "# df = pd.read_csv(data_path, usecols=[\"Date/Time\",\"Data Quality\",\"Max Temp (°C)\",\"Min Temp (°C)\",\n",
    "# \t\"Mean Temp (°C)\",\"Heat Deg Days (°C)\",\"Cool Deg Days (°C)\",\"Total Rain (mm)\",\n",
    "# \t\"Total Snow (cm)\",\"Total Precip (mm)\",\"Snow on Grnd (cm)\"])\n",
    "\n",
    "df = pd.read_csv(data_path, usecols=[\"Date/Time\",'Year','Month',\"Mean Temp\", \"Total Precip (mm)\"])\n",
    "\n",
    "# Delete the years and months not of interest\n",
    "delete_years = np.arange(1976,2012)\n",
    "delete_months = np.arange(4,13)\n",
    "\n",
    "df = df[~df['Year'].isin(delete_years)]\n",
    "df = df[~df['Month'].isin(delete_months)]\n",
    "\n",
    "df = df.drop(['Year', 'Month'], axis=1)\n",
    "\n",
    "# See what the data set looks like\n",
    "print(df.head())\n",
    "print(df.describe())\n",
    "\n",
    "# Nan's\n",
    "numNan = df.isna().sum()\n",
    "nanPct = round(100 * np.max(numNan) / df.shape[0],2) \n",
    "print('\\n Number of NaNs: \\n',numNan)\n",
    "print(nanPct, '% of rows have at least one NaN')\n",
    "\n",
    "# Histogram\n",
    "hist = df.hist(bins=10)\n",
    "plt.show()"
   ]
  },
  {
   "cell_type": "code",
   "execution_count": null,
   "metadata": {},
   "outputs": [],
   "source": []
  }
 ],
 "metadata": {
  "kernelspec": {
   "display_name": "Python 3",
   "language": "python",
   "name": "python3"
  },
  "language_info": {
   "codemirror_mode": {
    "name": "ipython",
    "version": 3
   },
   "file_extension": ".py",
   "mimetype": "text/x-python",
   "name": "python",
   "nbconvert_exporter": "python",
   "pygments_lexer": "ipython3",
   "version": "3.6.4"
  }
 },
 "nbformat": 4,
 "nbformat_minor": 2
}
