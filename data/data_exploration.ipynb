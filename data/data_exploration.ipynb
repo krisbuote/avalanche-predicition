{
 "cells": [
  {
   "cell_type": "code",
   "execution_count": 25,
   "metadata": {},
   "outputs": [
    {
     "name": "stdout",
     "output_type": "stream",
     "text": [
      "        Date/Time  Mean Temp  Total Precip (mm)\n",
      "13149  2012-01-01       -3.7                0.0\n",
      "13150  2012-01-02       -1.1                1.6\n",
      "13151  2012-01-03       -0.7               41.0\n",
      "13152  2012-01-04        2.8               49.5\n",
      "13153  2012-01-05        1.2                3.4\n",
      "        Mean Temp  Total Precip (mm)\n",
      "count  440.000000         440.000000\n",
      "mean    -0.096818           5.315682\n",
      "std      4.416591           9.622317\n",
      "min    -18.200000           0.000000\n",
      "25%     -1.800000           0.000000\n",
      "50%      0.900000           1.150000\n",
      "75%      2.425000           6.450000\n",
      "max     11.000000          66.000000\n",
      "\n",
      " Number of NaNs: \n",
      " Date/Time              0\n",
      "Mean Temp            102\n",
      "Total Precip (mm)    102\n",
      "dtype: int64\n",
      "18.82 % of rows have at least one NaN\n"
     ]
    },
    {
     "data": {
      "image/png": "[encoded data removed]",
      "text/plain": [
       "<matplotlib.figure.Figure at 0x2b92a31a630>"
      ]
     },
     "metadata": {},
     "output_type": "display_data"
    }
   ],
   "source": [
    "# Visualize and inspect weather data\n",
    "import numpy as np \n",
    "import pandas as pd \n",
    "import matplotlib.pyplot as plt\n",
    "\n",
    "data_path = './whistler_weather_good.csv'\n",
    "# df = pd.read_csv(data_path, usecols=[\"Date/Time\",\"Data Quality\",\"Max Temp (°C)\",\"Min Temp (°C)\",\n",
    "# \t\"Mean Temp (°C)\",\"Heat Deg Days (°C)\",\"Cool Deg Days (°C)\",\"Total Rain (mm)\",\n",
    "# \t\"Total Snow (cm)\",\"Total Precip (mm)\",\"Snow on Grnd (cm)\"])\n",
    "\n",
    "df = pd.read_csv(data_path, usecols=[\"Date/Time\",'Year','Month',\"Mean Temp\", \"Total Precip (mm)\"])\n",
    "\n",
    "# Delete the years and months not of interest\n",
    "delete_years = np.arange(1976,2012)\n",
    "delete_months = np.arange(4,13)\n",
    "\n",
    "df = df[~df['Year'].isin(delete_years)]\n",
    "df = df[~df['Month'].isin(delete_months)]\n",
    "\n",
    "df = df.drop(['Year', 'Month'], axis=1)\n",
    "\n",
    "# See what the data set looks like\n",
    "print(df.head())\n",
    "print(df.describe())\n",
    "\n",
    "# Nan's\n",
    "numNan = df.isna().sum()\n",
    "nanPct = round(100 * np.max(numNan) / df.shape[0],2) \n",
    "print('\\n Number of NaNs: \\n',numNan)\n",
    "print(nanPct, '% of rows have at least one NaN')\n",
    "\n",
    "# Histogram\n",
    "hist = df.hist(bins=10)\n",
    "plt.show()"
   ]
  },
  {
   "cell_type": "code",
   "execution_count": 20,
   "metadata": {},
   "outputs": [
    {
     "name": "stdout",
     "output_type": "stream",
     "text": [
      "                     Name          Province Climate ID  Station ID  WMO ID  \\\n",
      "0             ACTIVE PASS  BRITISH COLUMBIA    1010066          14     NaN   \n",
      "1             ALBERT HEAD  BRITISH COLUMBIA    1010235          15     NaN   \n",
      "2  BAMBERTON OCEAN CEMENT  BRITISH COLUMBIA    1010595          16     NaN   \n",
      "3              BEAR CREEK  BRITISH COLUMBIA    1010720          17     NaN   \n",
      "4             BEAVER LAKE  BRITISH COLUMBIA    1010774          18     NaN   \n",
      "\n",
      "  TC ID  Latitude (Decimal Degrees)  Longitude (Decimal Degrees)   Latitude  \\\n",
      "0   NaN                       48.87                      -123.28  485200000   \n",
      "1   NaN                       48.40                      -123.48  482400000   \n",
      "2   NaN                       48.58                      -123.52  483500000   \n",
      "3   NaN                       48.50                      -124.00  483000000   \n",
      "4   NaN                       48.50                      -123.35  483000000   \n",
      "\n",
      "    Longitude  Elevation (m)  First Year  Last Year  HLY First Year  \\\n",
      "0 -1231700000            4.0        1984       1996             NaN   \n",
      "1 -1232900000           17.0        1971       1995             NaN   \n",
      "2 -1233100000           85.3        1961       1980             NaN   \n",
      "3 -1240000000          350.5        1910       1971             NaN   \n",
      "4 -1232100000           61.0        1894       1952             NaN   \n",
      "\n",
      "   HLY Last Year  DLY First Year  DLY Last Year  MLY First Year  MLY Last Year  \n",
      "0            NaN          1984.0         1996.0          1984.0         1996.0  \n",
      "1            NaN          1971.0         1995.0          1971.0         1995.0  \n",
      "2            NaN          1961.0         1980.0          1961.0         1980.0  \n",
      "3            NaN          1910.0         1971.0          1910.0         1971.0  \n",
      "4            NaN          1894.0         1952.0          1894.0         1952.0  \n",
      "\n",
      " Number of NaNs: \n",
      " Name                            0\n",
      "Province                        0\n",
      "Climate ID                      0\n",
      "Station ID                      0\n",
      "WMO ID                         21\n",
      "TC ID                          10\n",
      "Latitude (Decimal Degrees)      0\n",
      "Longitude (Decimal Degrees)     0\n",
      "Latitude                        0\n",
      "Longitude                       0\n",
      "Elevation (m)                   0\n",
      "First Year                      0\n",
      "Last Year                       0\n",
      "HLY First Year                  6\n",
      "HLY Last Year                   6\n",
      "DLY First Year                  2\n",
      "DLY Last Year                   2\n",
      "MLY First Year                 12\n",
      "MLY Last Year                  12\n",
      "dtype: int64\n"
     ]
    },
    {
     "data": {
      "image/png": "[encoded data removed]",
      "text/plain": [
       "<matplotlib.figure.Figure at 0x24071fc3cf8>"
      ]
     },
     "metadata": {},
     "output_type": "display_data"
    },
    {
     "name": "stdout",
     "output_type": "stream",
     "text": [
      "24 weather stations in area of interest were saved.\n"
     ]
    }
   ],
   "source": [
    "# Weather Station locations\n",
    "import matplotlib.pyplot as plt\n",
    "import pandas as pd\n",
    "\n",
    "station_df = pd.read_csv('./stationInventoryEN.csv', header=3)\n",
    "print(station_df.head())\n",
    "\n",
    "latitude, longitude, elevation = station_df['Latitude (Decimal Degrees)'], station_df['Longitude (Decimal Degrees)'], station_df['Elevation (m)']\n",
    "\n",
    "# crudely strip away long/lats outside of Sea to Sky Corridor\n",
    "# rough box with top left corner: Manatee peak. bottom right corner: Galaxy Peak\n",
    "station_df = station_df[station_df['Latitude (Decimal Degrees)'] > 49.70] \n",
    "station_df = station_df[station_df['Latitude (Decimal Degrees)'] < 50.58] \n",
    "\n",
    "station_df = station_df[station_df['Longitude (Decimal Degrees)'] < -122.49]\n",
    "station_df = station_df[station_df['Longitude (Decimal Degrees)'] > -123.70]\n",
    "\n",
    "# optional elevation filter\n",
    "station_df = station_df[station_df['Elevation (m)'] > 500.0]\n",
    "\n",
    "# inspect nans\n",
    "numNan = station_df.isna().sum()\n",
    "print('\\n Number of NaNs: \\n',numNan)\n",
    "\n",
    "# plot\n",
    "station_df.plot(kind=\"scatter\", x=\"Longitude (Decimal Degrees)\", y=\"Latitude (Decimal Degrees)\",\n",
    "                c=\"Elevation (m)\", cmap=plt.get_cmap(\"jet\"),\n",
    "                colorbar=True, alpha=0.4, figsize=(10,7),)\n",
    "plt.show()\n",
    "\n",
    "# save\n",
    "station_df.to_csv('weatherStationsS2S.csv')\n",
    "print(station_df.shape[0], 'weather stations in area of interest were saved.')\n"
   ]
  },
  {
   "cell_type": "code",
   "execution_count": null,
   "metadata": {},
   "outputs": [],
   "source": []
  }
 ],
 "metadata": {
  "kernelspec": {
   "display_name": "Python 3",
   "language": "python",
   "name": "python3"
  },
  "language_info": {
   "codemirror_mode": {
    "name": "ipython",
    "version": 3
   },
   "file_extension": ".py",
   "mimetype": "text/x-python",
   "name": "python",
   "nbconvert_exporter": "python",
   "pygments_lexer": "ipython3",
   "version": "3.6.4"
  }
 },
 "nbformat": 4,
 "nbformat_minor": 2
}
